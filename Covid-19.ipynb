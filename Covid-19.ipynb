{
  "cells": [
    {
      "cell_type": "code",
      "source": [
        "!pip install pandas"
      ],
      "outputs": [
        {
          "output_type": "stream",
          "name": "stdout",
          "text": [
            "Requirement already satisfied: pandas in /Users/Javi/opt/miniconda3/lib/python3.7/site-packages (1.0.1)\n",
            "Requirement already satisfied: python-dateutil>=2.6.1 in /Users/Javi/opt/miniconda3/lib/python3.7/site-packages (from pandas) (2.8.1)\n",
            "Requirement already satisfied: numpy>=1.13.3 in /Users/Javi/opt/miniconda3/lib/python3.7/site-packages (from pandas) (1.18.1)\n",
            "Requirement already satisfied: pytz>=2017.2 in /Users/Javi/opt/miniconda3/lib/python3.7/site-packages (from pandas) (2019.3)\n",
            "Requirement already satisfied: six>=1.5 in /Users/Javi/opt/miniconda3/lib/python3.7/site-packages (from python-dateutil>=2.6.1->pandas) (1.12.0)\n"
          ]
        }
      ],
      "execution_count": 1,
      "metadata": {
        "collapsed": false,
        "jupyter": {
          "source_hidden": false,
          "outputs_hidden": false
        },
        "nteract": {
          "transient": {
            "deleting": false
          }
        },
        "execution": {
          "iopub.status.busy": "2020-03-28T03:17:49.781Z",
          "iopub.execute_input": "2020-03-28T03:17:49.787Z",
          "iopub.status.idle": "2020-03-28T03:17:53.595Z",
          "shell.execute_reply": "2020-03-28T03:17:53.588Z"
        }
      }
    },
    {
      "cell_type": "markdown",
      "source": [
        "# Coronavirus in Los Angeles County as of 12pm 3/27\n",
        "\n",
        "## Cases – 1465\n",
        "\n",
        "## Deaths – 26\n",
        "\n",
        "*including cases reported by Long Beach and Pasadena Health Department*\n",
        "\n",
        "Cleaned using regular expressions to CSV format"
      ],
      "metadata": {
        "nteract": {
          "transient": {
            "deleting": false
          }
        }
      }
    },
    {
      "cell_type": "code",
      "source": [
        "import pandas as pd\n",
        "la_df = pd.read_csv(\"LA-country.csv\")"
      ],
      "outputs": [],
      "execution_count": 6,
      "metadata": {
        "collapsed": false,
        "jupyter": {
          "source_hidden": false,
          "outputs_hidden": false
        },
        "nteract": {
          "transient": {
            "deleting": false
          }
        },
        "execution": {
          "iopub.status.busy": "2020-03-28T03:18:58.850Z",
          "iopub.execute_input": "2020-03-28T03:18:58.854Z",
          "iopub.status.idle": "2020-03-28T03:18:58.861Z",
          "shell.execute_reply": "2020-03-28T03:18:58.865Z"
        }
      }
    },
    {
      "cell_type": "code",
      "source": [
        "la_df"
      ],
      "outputs": [
        {
          "output_type": "execute_result",
          "execution_count": 7,
          "data": {
            "text/plain": [
              "                    City  Confirmed Cases\n",
              "0           Agoura Hills                6\n",
              "1               Alhambra                8\n",
              "2                Arcadia                6\n",
              "3                Artesia               --\n",
              "4                 Avalon                0\n",
              "..                   ...              ...\n",
              "330    White Fence Farms                0\n",
              "331             Whittier                0\n",
              "332          Willowbrook                1\n",
              "333             Wiseburn               --\n",
              "334  Under Investigation              143\n",
              "\n",
              "[335 rows x 2 columns]"
            ],
            "text/html": [
              "<div>\n",
              "<style scoped>\n",
              "    .dataframe tbody tr th:only-of-type {\n",
              "        vertical-align: middle;\n",
              "    }\n",
              "\n",
              "    .dataframe tbody tr th {\n",
              "        vertical-align: top;\n",
              "    }\n",
              "\n",
              "    .dataframe thead th {\n",
              "        text-align: right;\n",
              "    }\n",
              "</style>\n",
              "<table border=\"1\" class=\"dataframe\">\n",
              "  <thead>\n",
              "    <tr style=\"text-align: right;\">\n",
              "      <th></th>\n",
              "      <th>City</th>\n",
              "      <th>Confirmed Cases</th>\n",
              "    </tr>\n",
              "  </thead>\n",
              "  <tbody>\n",
              "    <tr>\n",
              "      <th>0</th>\n",
              "      <td>Agoura Hills</td>\n",
              "      <td>6</td>\n",
              "    </tr>\n",
              "    <tr>\n",
              "      <th>1</th>\n",
              "      <td>Alhambra</td>\n",
              "      <td>8</td>\n",
              "    </tr>\n",
              "    <tr>\n",
              "      <th>2</th>\n",
              "      <td>Arcadia</td>\n",
              "      <td>6</td>\n",
              "    </tr>\n",
              "    <tr>\n",
              "      <th>3</th>\n",
              "      <td>Artesia</td>\n",
              "      <td>--</td>\n",
              "    </tr>\n",
              "    <tr>\n",
              "      <th>4</th>\n",
              "      <td>Avalon</td>\n",
              "      <td>0</td>\n",
              "    </tr>\n",
              "    <tr>\n",
              "      <th>...</th>\n",
              "      <td>...</td>\n",
              "      <td>...</td>\n",
              "    </tr>\n",
              "    <tr>\n",
              "      <th>330</th>\n",
              "      <td>White Fence Farms</td>\n",
              "      <td>0</td>\n",
              "    </tr>\n",
              "    <tr>\n",
              "      <th>331</th>\n",
              "      <td>Whittier</td>\n",
              "      <td>0</td>\n",
              "    </tr>\n",
              "    <tr>\n",
              "      <th>332</th>\n",
              "      <td>Willowbrook</td>\n",
              "      <td>1</td>\n",
              "    </tr>\n",
              "    <tr>\n",
              "      <th>333</th>\n",
              "      <td>Wiseburn</td>\n",
              "      <td>--</td>\n",
              "    </tr>\n",
              "    <tr>\n",
              "      <th>334</th>\n",
              "      <td>Under Investigation</td>\n",
              "      <td>143</td>\n",
              "    </tr>\n",
              "  </tbody>\n",
              "</table>\n",
              "<p>335 rows × 2 columns</p>\n",
              "</div>"
            ]
          },
          "metadata": {}
        }
      ],
      "execution_count": 7,
      "metadata": {
        "collapsed": false,
        "jupyter": {
          "source_hidden": false,
          "outputs_hidden": false
        },
        "nteract": {
          "transient": {
            "deleting": false
          }
        },
        "execution": {
          "iopub.status.busy": "2020-03-28T03:18:59.609Z",
          "iopub.execute_input": "2020-03-28T03:18:59.616Z",
          "iopub.status.idle": "2020-03-28T03:18:59.632Z",
          "shell.execute_reply": "2020-03-28T03:18:59.646Z"
        }
      }
    },
    {
      "cell_type": "markdown",
      "source": [
        "# Individual Hospital Statistics for California\n",
        "\n",
        "Statistics for non-federal, short-term, acute care hospitals.\n",
        "Data are based on each hospital's most recent cost report and other sources"
      ],
      "metadata": {
        "nteract": {
          "transient": {
            "deleting": false
          }
        }
      }
    },
    {
      "cell_type": "markdown",
      "source": [
        "<h1>Definitions and Methodology</h1>\n",
        "    <h2>Hospital Statistics</h2>   \n",
        "        <div class=\"subcontent\">\n",
        "            <dl>\n",
        "    <dt>Hospital Name, State, and Status (Active vs. Inactive)</dt>\n",
        "    <dd>\n",
        "        <p>\n",
        "            Hospital name, state, and status are\n",
        "            taken from three sources according to the following\n",
        "            precedence:\n",
        "        </p>\n",
        "        <ul>\n",
        "            <li>\n",
        "                Information may be collected and updated as the result \n",
        "                of direct communications with hospitals, news items, \n",
        "                etc.&nbsp; Such information has highest precedence over \n",
        "                other sources.\n",
        "            </li>\n",
        "            <li>\n",
        "                Information may be collected or updated directly from a \n",
        "                hospital's website or from a system's website.\n",
        "            </li>\n",
        "            <li>\n",
        "                Information for hospitals without websites may be taken \n",
        "                from their most recent Medicare cost report and/or the \n",
        "                Medicare Provider of Services file.&nbsp; (Data for \n",
        "                these hospitals are updated quarterly as new versions of \n",
        "                these files become available.&nbsp; Data from these \n",
        "                sources is only used when information is not available \n",
        "                from a website or through direct communications.)\n",
        "            </li>\n",
        "        </ul>\n",
        "    </dd>\n",
        "    <dt>Type of Facility</dt>\n",
        "    <dd>\n",
        "        <p>\n",
        "            The type of facility is determined from the last \n",
        "            four digits of its CMS Certification Number (CCN).&nbsp; Only \n",
        "            short term acute care hospitals are reported:\n",
        "        </p>\n",
        "        <table>\n",
        "            <colgroup><col width=\"200\">\n",
        "            </colgroup><tbody>\n",
        "                <tr>\n",
        "                    <td>Short Term Acute Care</td>\n",
        "                    <td>0001-0899</td>\n",
        "                </tr>\n",
        "                <tr>\n",
        "                    <td>Childrens</td>\n",
        "                    <td>3300-3399</td>\n",
        "                </tr>\n",
        "                <tr>\n",
        "                    <td>Critical Access</td>\n",
        "                    <td>1300-1399</td>\n",
        "                </tr>\n",
        "                <tr>\n",
        "                    <td>Long Term</td>\n",
        "                    <td>2000-2299</td>\n",
        "                </tr>\n",
        "                <tr>\n",
        "                    <td>Psychiatric</td>\n",
        "                    <td>4000-4499</td>\n",
        "                </tr>\n",
        "                <tr>\n",
        "                    <td>Rehabilitation</td>\n",
        "                    <td>3025-3099</td>\n",
        "                </tr>\n",
        "                <tr>\n",
        "                    <td>Other</td>\n",
        "                    <td>none of above</td>\n",
        "                </tr>\n",
        "            </tbody>\n",
        "        </table>\n",
        "    </dd>\n",
        "    <dt>Staffed Beds</dt>\n",
        "    <dd>\n",
        "        <p>\n",
        "            Numbers of staffed beds are taken from a hospital's most \n",
        "            recent Medicare cost report (W/S S-3, Part I, col.1).&nbsp; \n",
        "            Cost report instructions define staffed beds as, \"the number of \n",
        "            beds available for use by patients at the end of the cost \n",
        "            reporting period.&nbsp; A bed means an adult bed, pediatric bed, \n",
        "            birthing room, or newborn bed maintained in a patient care area \n",
        "            for lodging patients in acute, long term, or domiciliary areas \n",
        "            of the hospital. Beds in labor room, birthing room, postanesthesia, postoperative recovery rooms, outpatient areas, \n",
        "            emergency rooms, ancillary departments, nurses' and other staff \n",
        "            residences, and other such areas which are regularly maintained \n",
        "            and utilized for only a portion of the stay of patients \n",
        "            (primarily for special procedures or not for inpatient lodging) \n",
        "            are not termed a bed for these purposes.\"&nbsp; \n",
        "            <i>The total number of general med/surg beds plus special care beds are reported:</i>\n",
        "        </p>\n",
        "        <ul>\n",
        "            <li>General Medical/Surgical Beds are the beds used for routine care.</li>\n",
        "            <li>Special Care Beds include Intensive Care Units, Coronary Care Units, etc.</li>\n",
        "        </ul>\n",
        "    </dd>\n",
        "    <dt>Total Discharges</dt>\n",
        "    <dd>\n",
        "        <p>The total number of inpatient discharges (all payors)  is taken from a hospital's most recent Medicare Cost Report (W/S S-3, part I, line 14, column 15).</p>\n",
        "    </dd>\n",
        "    <dt>Patient Days</dt>\n",
        "    <dd>\n",
        "        <p>The total number of patient days (all payors) is taken from \n",
        "        a hospital's most recent Medicare Cost Report (W/S S-3, part I, \n",
        "        line 12, column 6).</p>\n",
        "    </dd>\n",
        "    <dt>Gross Patient Revenue</dt>\n",
        "    <dd>\n",
        "        <p>The total patient revenue (inpatient and outpatient) is \n",
        "        taken from a hospital's most recent Medicare Cost Report (W/S \n",
        "        G-2, part I, line 25, column 10).</p>\n",
        "    </dd>\n",
        "</dl>"
      ],
      "metadata": {
        "nteract": {
          "transient": {
            "deleting": false
          }
        }
      }
    },
    {
      "cell_type": "code",
      "source": [
        "ca_hospital_df = pd.read_csv(\"CA-hospitals.csv\")"
      ],
      "outputs": [],
      "execution_count": 8,
      "metadata": {
        "collapsed": false,
        "jupyter": {
          "source_hidden": false,
          "outputs_hidden": false
        },
        "nteract": {
          "transient": {
            "deleting": false
          }
        },
        "execution": {
          "iopub.status.busy": "2020-03-28T03:19:08.043Z",
          "iopub.execute_input": "2020-03-28T03:19:08.047Z",
          "iopub.status.idle": "2020-03-28T03:19:08.053Z",
          "shell.execute_reply": "2020-03-28T03:19:08.058Z"
        }
      }
    },
    {
      "cell_type": "code",
      "source": [
        "ca_hospital_df"
      ],
      "outputs": [
        {
          "output_type": "execute_result",
          "execution_count": 9,
          "data": {
            "text/plain": [
              "                                         Hospital Name            City  \\\n",
              "0                         Adventist Health Simi Valley     Simi Valley   \n",
              "1                               Adventist Ukiah Valley           Ukiah   \n",
              "2                                Downey Medical Center          Downey   \n",
              "3                           MarinHealth Medical Center       Greenbrae   \n",
              "4                Providence Saint John's Health Center    Santa Monica   \n",
              "..                                                 ...             ...   \n",
              "336               West Hills Hospital & Medical Center      West Hills   \n",
              "337                    West Los Angeles Medical Center     Los Angeles   \n",
              "338                   Whittier Hospital Medical Center        Whittier   \n",
              "339                         Woodland Memorial Hospital        Woodland   \n",
              "340  Zuckerberg San Francisco General Hospital and ...   San Francisco   \n",
              "\n",
              "      Staffed Beds   Total Discharges   Patient Days  \\\n",
              "0              144               6574          26847   \n",
              "1               50               3451          12747   \n",
              "2              352              15856          70158   \n",
              "3              235               9248          39395   \n",
              "4              266              12400          57959   \n",
              "..             ...                ...            ...   \n",
              "336            228               8802          41828   \n",
              "337            265               8946          31484   \n",
              "338            178               7619          30949   \n",
              "339            108               3490          10719   \n",
              "340            397              15244          86146   \n",
              "\n",
              "      Gross Patient Revenue ($)  \n",
              "0                        666423  \n",
              "1                        529977  \n",
              "2                       2411332  \n",
              "3                       2216874  \n",
              "4                       1259366  \n",
              "..                          ...  \n",
              "336                     1976495  \n",
              "337                      308494  \n",
              "338                      780150  \n",
              "339                      797865  \n",
              "340                     3676413  \n",
              "\n",
              "[341 rows x 6 columns]"
            ],
            "text/html": [
              "<div>\n",
              "<style scoped>\n",
              "    .dataframe tbody tr th:only-of-type {\n",
              "        vertical-align: middle;\n",
              "    }\n",
              "\n",
              "    .dataframe tbody tr th {\n",
              "        vertical-align: top;\n",
              "    }\n",
              "\n",
              "    .dataframe thead th {\n",
              "        text-align: right;\n",
              "    }\n",
              "</style>\n",
              "<table border=\"1\" class=\"dataframe\">\n",
              "  <thead>\n",
              "    <tr style=\"text-align: right;\">\n",
              "      <th></th>\n",
              "      <th>Hospital Name</th>\n",
              "      <th>City</th>\n",
              "      <th>Staffed Beds</th>\n",
              "      <th>Total Discharges</th>\n",
              "      <th>Patient Days</th>\n",
              "      <th>Gross Patient Revenue ($)</th>\n",
              "    </tr>\n",
              "  </thead>\n",
              "  <tbody>\n",
              "    <tr>\n",
              "      <th>0</th>\n",
              "      <td>Adventist Health Simi Valley</td>\n",
              "      <td>Simi Valley</td>\n",
              "      <td>144</td>\n",
              "      <td>6574</td>\n",
              "      <td>26847</td>\n",
              "      <td>666423</td>\n",
              "    </tr>\n",
              "    <tr>\n",
              "      <th>1</th>\n",
              "      <td>Adventist Ukiah Valley</td>\n",
              "      <td>Ukiah</td>\n",
              "      <td>50</td>\n",
              "      <td>3451</td>\n",
              "      <td>12747</td>\n",
              "      <td>529977</td>\n",
              "    </tr>\n",
              "    <tr>\n",
              "      <th>2</th>\n",
              "      <td>Downey Medical Center</td>\n",
              "      <td>Downey</td>\n",
              "      <td>352</td>\n",
              "      <td>15856</td>\n",
              "      <td>70158</td>\n",
              "      <td>2411332</td>\n",
              "    </tr>\n",
              "    <tr>\n",
              "      <th>3</th>\n",
              "      <td>MarinHealth Medical Center</td>\n",
              "      <td>Greenbrae</td>\n",
              "      <td>235</td>\n",
              "      <td>9248</td>\n",
              "      <td>39395</td>\n",
              "      <td>2216874</td>\n",
              "    </tr>\n",
              "    <tr>\n",
              "      <th>4</th>\n",
              "      <td>Providence Saint John's Health Center</td>\n",
              "      <td>Santa Monica</td>\n",
              "      <td>266</td>\n",
              "      <td>12400</td>\n",
              "      <td>57959</td>\n",
              "      <td>1259366</td>\n",
              "    </tr>\n",
              "    <tr>\n",
              "      <th>...</th>\n",
              "      <td>...</td>\n",
              "      <td>...</td>\n",
              "      <td>...</td>\n",
              "      <td>...</td>\n",
              "      <td>...</td>\n",
              "      <td>...</td>\n",
              "    </tr>\n",
              "    <tr>\n",
              "      <th>336</th>\n",
              "      <td>West Hills Hospital &amp; Medical Center</td>\n",
              "      <td>West Hills</td>\n",
              "      <td>228</td>\n",
              "      <td>8802</td>\n",
              "      <td>41828</td>\n",
              "      <td>1976495</td>\n",
              "    </tr>\n",
              "    <tr>\n",
              "      <th>337</th>\n",
              "      <td>West Los Angeles Medical Center</td>\n",
              "      <td>Los Angeles</td>\n",
              "      <td>265</td>\n",
              "      <td>8946</td>\n",
              "      <td>31484</td>\n",
              "      <td>308494</td>\n",
              "    </tr>\n",
              "    <tr>\n",
              "      <th>338</th>\n",
              "      <td>Whittier Hospital Medical Center</td>\n",
              "      <td>Whittier</td>\n",
              "      <td>178</td>\n",
              "      <td>7619</td>\n",
              "      <td>30949</td>\n",
              "      <td>780150</td>\n",
              "    </tr>\n",
              "    <tr>\n",
              "      <th>339</th>\n",
              "      <td>Woodland Memorial Hospital</td>\n",
              "      <td>Woodland</td>\n",
              "      <td>108</td>\n",
              "      <td>3490</td>\n",
              "      <td>10719</td>\n",
              "      <td>797865</td>\n",
              "    </tr>\n",
              "    <tr>\n",
              "      <th>340</th>\n",
              "      <td>Zuckerberg San Francisco General Hospital and ...</td>\n",
              "      <td>San Francisco</td>\n",
              "      <td>397</td>\n",
              "      <td>15244</td>\n",
              "      <td>86146</td>\n",
              "      <td>3676413</td>\n",
              "    </tr>\n",
              "  </tbody>\n",
              "</table>\n",
              "<p>341 rows × 6 columns</p>\n",
              "</div>"
            ]
          },
          "metadata": {}
        }
      ],
      "execution_count": 9,
      "metadata": {
        "collapsed": false,
        "jupyter": {
          "source_hidden": false,
          "outputs_hidden": false
        },
        "nteract": {
          "transient": {
            "deleting": false
          }
        },
        "execution": {
          "iopub.status.busy": "2020-03-28T03:19:14.963Z",
          "iopub.execute_input": "2020-03-28T03:19:14.967Z",
          "iopub.status.idle": "2020-03-28T03:19:14.984Z",
          "shell.execute_reply": "2020-03-28T03:19:14.990Z"
        }
      }
    },
    {
      "cell_type": "code",
      "source": [],
      "outputs": [],
      "execution_count": null,
      "metadata": {
        "collapsed": false,
        "jupyter": {
          "source_hidden": false,
          "outputs_hidden": false
        },
        "nteract": {
          "transient": {
            "deleting": false
          }
        }
      }
    }
  ],
  "metadata": {
    "kernel_info": {
      "name": "python3"
    },
    "language_info": {
      "name": "python",
      "version": "3.7.4",
      "mimetype": "text/x-python",
      "codemirror_mode": {
        "name": "ipython",
        "version": 3
      },
      "pygments_lexer": "ipython3",
      "nbconvert_exporter": "python",
      "file_extension": ".py"
    },
    "kernelspec": {
      "argv": [
        "/Users/Javi/opt/miniconda3/bin/python",
        "-m",
        "ipykernel_launcher",
        "-f",
        "{connection_file}"
      ],
      "display_name": "Python 3",
      "language": "python",
      "name": "python3"
    },
    "nteract": {
      "version": "0.22.0"
    }
  },
  "nbformat": 4,
  "nbformat_minor": 0
}